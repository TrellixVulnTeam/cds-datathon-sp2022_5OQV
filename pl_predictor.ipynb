{
 "cells": [
  {
   "cell_type": "code",
   "execution_count": 6,
   "metadata": {},
   "outputs": [],
   "source": [
    "tokens=['#', ';', ',', '.', '/', '(', ')', '==', '=', '+', '-', '*',\n",
    "        '&', '|', '}', '{', ']', '[', '!', '<', '>', '<=', '>=', '!=',\n",
    "        '||', '&&', '()', '\"', \"'\", '?', '^', '%']\n",
    "\n",
    "# java, c, cpp, python, ocaml\n",
    "\n",
    "words=['boolean', 'double', 'if', 'return', \"while\", 'break', 'else', 'int',\n",
    "      'static', 'char', 'false', 'new', 'true', 'class', 'for', 'public',\n",
    "      'void', 'abstract', 'byvalue', 'case', 'cast', 'catch', 'const', 'continue',\n",
    "      'extends', 'do', 'default', 'finalize', 'final', 'import', 'inner', 'instanceof',\n",
    "      'interface', 'long', 'native', 'null', 'operator', 'outer', 'package',\n",
    "      'private', 'protected', 'rest', 'short', 'super', 'switch', 'synchronized',\n",
    "      'this', 'throw', 'throws', 'transient', 'try', 'var', 'volatile', 'auto', 'enum',\n",
    "      'extern', 'float', 'goto', 'inline', 'register', 'restrict', 'unsigned', 'signed',\n",
    "       'sizeof', 'struct', 'typedef', 'union', 'dynamic_cast', 'explicit', 'friend', 'namespace', \n",
    "       'typeid', 'typename', 'and', 'as', 'assert', 'def', 'elif', 'del', 'from', 'global', 'in', 'is', 'lambda', \n",
    "       'None', 'not', 'or', 'pass', 'raise', 'yield', 'asr', 'begin', 'fun', 'function', 'functor', 'inherit', \n",
    "       'initializer', 'land', 'match', 'let', 'module', 'mutable', 'rec', 'nonrec', 'of', 'sig', 'then', 'virtual', \n",
    "       'print', 'cout', 'cin', 'printf', 'scanf', 'input', 'print_endline', 'System.out.println', 'System.out.print']"
   ]
  },
  {
   "cell_type": "code",
   "execution_count": 7,
   "metadata": {},
   "outputs": [],
   "source": [
    "hello_world_python = 'print(\"hello world\")'"
   ]
  },
  {
   "cell_type": "code",
   "execution_count": 8,
   "metadata": {},
   "outputs": [],
   "source": [
    "token_counts = {}\n",
    "for t in tokens:\n",
    "    c = hello_world_python.count(t)\n",
    "    token_counts.update({t: c})\n",
    "\n",
    "for w in words:\n",
    "    c = hello_world_python.count(w)\n",
    "    token_counts.update({w: c})"
   ]
  },
  {
   "cell_type": "code",
   "execution_count": 9,
   "metadata": {},
   "outputs": [
    {
     "name": "stdout",
     "output_type": "stream",
     "text": [
      "{'#': 0, ';': 0, ',': 0, '.': 0, '/': 0, '(': 1, ')': 1, '==': 0, '=': 0, '+': 0, '-': 0, '*': 0, '&': 0, '|': 0, '}': 0, '{': 0, ']': 0, '[': 0, '!': 0, '<': 0, '>': 0, '<=': 0, '>=': 0, '!=': 0, '||': 0, '&&': 0, '()': 0, '\"': 2, \"'\": 0, '?': 0, '^': 0, '%': 0, 'boolean': 0, 'double': 0, 'if': 0, 'return': 0, 'while': 0, 'break': 0, 'else': 0, 'int': 1, 'static': 0, 'char': 0, 'false': 0, 'new': 0, 'true': 0, 'class': 0, 'for': 0, 'public': 0, 'void': 0, 'abstract': 0, 'byvalue': 0, 'case': 0, 'cast': 0, 'catch': 0, 'const': 0, 'continue': 0, 'extends': 0, 'do': 0, 'default': 0, 'finalize': 0, 'final': 0, 'import': 0, 'inner': 0, 'instanceof': 0, 'interface': 0, 'long': 0, 'native': 0, 'null': 0, 'operator': 0, 'outer': 0, 'package': 0, 'private': 0, 'protected': 0, 'rest': 0, 'short': 0, 'super': 0, 'switch': 0, 'synchronized': 0, 'this': 0, 'throw': 0, 'throws': 0, 'transient': 0, 'try': 0, 'var': 0, 'volatile': 0, 'auto': 0, 'enum': 0, 'extern': 0, 'float': 0, 'goto': 0, 'inline': 0, 'register': 0, 'restrict': 0, 'unsigned': 0, 'signed': 0, 'sizeof': 0, 'struct': 0, 'typedef': 0, 'union': 0, 'dynamic_cast': 0, 'explicit': 0, 'friend': 0, 'namespace': 0, 'typeid': 0, 'typename': 0, 'and': 0, 'as': 0, 'assert': 0, 'def': 0, 'elif': 0, 'del': 0, 'from': 0, 'global': 0, 'in': 1, 'is': 0, 'lambda': 0, 'None': 0, 'not': 0, 'or': 1, 'pass': 0, 'raise': 0, 'yield': 0, 'asr': 0, 'begin': 0, 'fun': 0, 'function': 0, 'functor': 0, 'inherit': 0, 'initializer': 0, 'land': 0, 'match': 0, 'let': 0, 'module': 0, 'mutable': 0, 'rec': 0, 'nonrec': 0, 'of': 0, 'sig': 0, 'then': 0, 'virtual': 0, 'print': 1, 'cout': 0, 'cin': 0, 'printf': 0, 'scanf': 0, 'input': 0, 'print_endline': 0, 'System.out.println': 0, 'System.out.print': 0}\n"
     ]
    }
   ],
   "source": [
    "print(token_counts)"
   ]
  },
  {
   "cell_type": "code",
   "execution_count": null,
   "metadata": {},
   "outputs": [],
   "source": []
  }
 ],
 "metadata": {
  "kernelspec": {
   "display_name": "Python 3",
   "language": "python",
   "name": "python3"
  },
  "language_info": {
   "codemirror_mode": {
    "name": "ipython",
    "version": 3
   },
   "file_extension": ".py",
   "mimetype": "text/x-python",
   "name": "python",
   "nbconvert_exporter": "python",
   "pygments_lexer": "ipython3",
   "version": "3.8.5"
  }
 },
 "nbformat": 4,
 "nbformat_minor": 5
}
